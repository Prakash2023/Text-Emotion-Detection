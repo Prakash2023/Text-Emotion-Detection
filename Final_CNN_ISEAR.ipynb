{
  "nbformat": 4,
  "nbformat_minor": 0,
  "metadata": {
    "colab": {
      "name": "Final_CNN_ISEAR.ipynb",
      "provenance": [],
      "collapsed_sections": [],
      "include_colab_link": true
    },
    "kernelspec": {
      "display_name": "Python 3",
      "name": "python3"
    },
    "language_info": {
      "name": "python"
    }
  },
  "cells": [
    {
      "cell_type": "markdown",
      "metadata": {
        "id": "view-in-github",
        "colab_type": "text"
      },
      "source": [
        "<a href=\"https://colab.research.google.com/github/Prakash2023/Text-Emotion-Detection/blob/main/Final_CNN_ISEAR.ipynb\" target=\"_parent\"><img src=\"https://colab.research.google.com/assets/colab-badge.svg\" alt=\"Open In Colab\"/></a>"
      ]
    },
    {
      "cell_type": "code",
      "metadata": {
        "id": "_AsKuVXDXcG8"
      },
      "source": [
        "import pandas as pd\n",
        "import numpy as np\n",
        "import string\n",
        "# text preprocessing\n",
        "from nltk.tokenize import word_tokenize\n",
        "import re\n",
        "\n",
        "# plots and metrics\n",
        "import matplotlib.pyplot as plt\n",
        "from sklearn.metrics import accuracy_score, f1_score, confusion_matrix\n",
        "\n",
        "# preparing input to our model\n",
        "from keras.preprocessing.text import Tokenizer\n",
        "from keras.preprocessing.sequence import pad_sequences\n",
        "from tensorflow.keras.utils import to_categorical\n",
        "import warnings\n",
        "warnings.filterwarnings(\"ignore\")\n",
        "\n",
        "# keras layers\n",
        "from keras.models import Sequential\n",
        "from keras.layers import Embedding, Bidirectional, LSTM, GRU, Dense\n",
        "\n",
        "# model evaluation metrices\n",
        "from sklearn import metrics\n",
        "from sklearn.metrics import ConfusionMatrixDisplay"
      ],
      "execution_count": null,
      "outputs": []
    },
    {
      "cell_type": "code",
      "metadata": {
        "colab": {
          "base_uri": "https://localhost:8080/"
        },
        "id": "GlGTFu4p4ly7",
        "outputId": "9a56d993-0b1c-448f-deb1-a649eadfbd57"
      },
      "source": [
        "from google.colab import drive\n",
        "drive.mount('/content/drive')"
      ],
      "execution_count": null,
      "outputs": [
        {
          "output_type": "stream",
          "name": "stdout",
          "text": [
            "Mounted at /content/drive\n"
          ]
        }
      ]
    },
    {
      "cell_type": "code",
      "metadata": {
        "id": "PgqzfTF05kJi"
      },
      "source": [
        "root_path = \"/content/drive/MyDrive/MINI/ISEAR/\""
      ],
      "execution_count": null,
      "outputs": []
    },
    {
      "cell_type": "code",
      "metadata": {
        "id": "yIFtHkf_Ysvx"
      },
      "source": [
        "num_classes = 7\n",
        "# Number of dimensions for word embedding\n",
        "embed_num_dims = 300\n",
        "\n",
        "# Max input length (max number of words) \n",
        "max_seq_len = 70\n",
        "\n",
        "class_names = ['joy','fear','anger','sadness','shame','disgust','guilt']"
      ],
      "execution_count": null,
      "outputs": []
    },
    {
      "cell_type": "markdown",
      "metadata": {
        "id": "Udu114kg_OD2"
      },
      "source": [
        "encoding = {\n",
        "    'joy': 0,\n",
        "    'fear': 1,\n",
        "    'anger': 2,\n",
        "    'sadness': 3,\n",
        "    'shame': 4,\n",
        "    'disgust': 5,\n",
        "    'guilt':6\n",
        "}"
      ]
    },
    {
      "cell_type": "code",
      "metadata": {
        "id": "QxPb2YNzYzaJ"
      },
      "source": [
        "data_train = pd.read_csv('https://raw.githubusercontent.com/SG115/Emotion-Recognition/main/ISEAR_data_training.csv', encoding='utf-8')\n",
        "data_test = pd.read_csv(\"https://raw.githubusercontent.com/SG115/Emotion-Recognition/main/ISEAR_data_testing.csv\", encoding='utf-8')\n",
        "\n",
        "X_train = data_train.Utterance\n",
        "X_test = data_test.Utterance\n",
        "\n",
        "y_train = data_train.Emotion\n",
        "y_test = data_test.Emotion\n",
        "\n",
        "data = data_train.append(data_test, ignore_index=True)"
      ],
      "execution_count": null,
      "outputs": []
    },
    {
      "cell_type": "code",
      "metadata": {
        "colab": {
          "base_uri": "https://localhost:8080/",
          "height": 423
        },
        "id": "7MuVFenuAuRW",
        "outputId": "7deffc7e-19ca-49ae-d536-5551dafb2b34"
      },
      "source": [
        "data_train"
      ],
      "execution_count": null,
      "outputs": [
        {
          "output_type": "execute_result",
          "data": {
            "text/html": [
              "<div>\n",
              "<style scoped>\n",
              "    .dataframe tbody tr th:only-of-type {\n",
              "        vertical-align: middle;\n",
              "    }\n",
              "\n",
              "    .dataframe tbody tr th {\n",
              "        vertical-align: top;\n",
              "    }\n",
              "\n",
              "    .dataframe thead th {\n",
              "        text-align: right;\n",
              "    }\n",
              "</style>\n",
              "<table border=\"1\" class=\"dataframe\">\n",
              "  <thead>\n",
              "    <tr style=\"text-align: right;\">\n",
              "      <th></th>\n",
              "      <th>Emotion</th>\n",
              "      <th>Utterance</th>\n",
              "    </tr>\n",
              "  </thead>\n",
              "  <tbody>\n",
              "    <tr>\n",
              "      <th>0</th>\n",
              "      <td>joy</td>\n",
              "      <td>On days when I feel close to my partner and ot...</td>\n",
              "    </tr>\n",
              "    <tr>\n",
              "      <th>1</th>\n",
              "      <td>fear</td>\n",
              "      <td>Every time I imagine that someone I love or I ...</td>\n",
              "    </tr>\n",
              "    <tr>\n",
              "      <th>2</th>\n",
              "      <td>disgust</td>\n",
              "      <td>At a gathering I found myself involuntarily si...</td>\n",
              "    </tr>\n",
              "    <tr>\n",
              "      <th>3</th>\n",
              "      <td>shame</td>\n",
              "      <td>When I realized that I was directing the feeli...</td>\n",
              "    </tr>\n",
              "    <tr>\n",
              "      <th>4</th>\n",
              "      <td>guilt</td>\n",
              "      <td>I feel guilty when when I realize that I consi...</td>\n",
              "    </tr>\n",
              "    <tr>\n",
              "      <th>...</th>\n",
              "      <td>...</td>\n",
              "      <td>...</td>\n",
              "    </tr>\n",
              "    <tr>\n",
              "      <th>6008</th>\n",
              "      <td>shame</td>\n",
              "      <td>Two years back someone invited me to be the tu...</td>\n",
              "    </tr>\n",
              "    <tr>\n",
              "      <th>6009</th>\n",
              "      <td>shame</td>\n",
              "      <td>I had taken the responsibility to do something...</td>\n",
              "    </tr>\n",
              "    <tr>\n",
              "      <th>6010</th>\n",
              "      <td>fear</td>\n",
              "      <td>I was at home and I heard a loud sound of spit...</td>\n",
              "    </tr>\n",
              "    <tr>\n",
              "      <th>6011</th>\n",
              "      <td>guilt</td>\n",
              "      <td>I did not do the homework that the teacher had...</td>\n",
              "    </tr>\n",
              "    <tr>\n",
              "      <th>6012</th>\n",
              "      <td>fear</td>\n",
              "      <td>I had shouted at my younger brother and he was...</td>\n",
              "    </tr>\n",
              "  </tbody>\n",
              "</table>\n",
              "<p>6013 rows × 2 columns</p>\n",
              "</div>"
            ],
            "text/plain": [
              "      Emotion                                          Utterance\n",
              "0         joy  On days when I feel close to my partner and ot...\n",
              "1        fear  Every time I imagine that someone I love or I ...\n",
              "2     disgust  At a gathering I found myself involuntarily si...\n",
              "3       shame  When I realized that I was directing the feeli...\n",
              "4       guilt  I feel guilty when when I realize that I consi...\n",
              "...       ...                                                ...\n",
              "6008    shame  Two years back someone invited me to be the tu...\n",
              "6009    shame  I had taken the responsibility to do something...\n",
              "6010     fear  I was at home and I heard a loud sound of spit...\n",
              "6011    guilt  I did not do the homework that the teacher had...\n",
              "6012     fear  I had shouted at my younger brother and he was...\n",
              "\n",
              "[6013 rows x 2 columns]"
            ]
          },
          "metadata": {},
          "execution_count": 4
        }
      ]
    },
    {
      "cell_type": "code",
      "metadata": {
        "colab": {
          "base_uri": "https://localhost:8080/",
          "height": 423
        },
        "id": "YUhlyjXPAy4f",
        "outputId": "149fbb0c-a189-42a1-e44e-d4cb8226f96c"
      },
      "source": [
        "data_test"
      ],
      "execution_count": null,
      "outputs": [
        {
          "output_type": "execute_result",
          "data": {
            "text/html": [
              "<div>\n",
              "<style scoped>\n",
              "    .dataframe tbody tr th:only-of-type {\n",
              "        vertical-align: middle;\n",
              "    }\n",
              "\n",
              "    .dataframe tbody tr th {\n",
              "        vertical-align: top;\n",
              "    }\n",
              "\n",
              "    .dataframe thead th {\n",
              "        text-align: right;\n",
              "    }\n",
              "</style>\n",
              "<table border=\"1\" class=\"dataframe\">\n",
              "  <thead>\n",
              "    <tr style=\"text-align: right;\">\n",
              "      <th></th>\n",
              "      <th>Emotion</th>\n",
              "      <th>Utterance</th>\n",
              "    </tr>\n",
              "  </thead>\n",
              "  <tbody>\n",
              "    <tr>\n",
              "      <th>0</th>\n",
              "      <td>joy</td>\n",
              "      <td>When I had an anticipatory honey-moon with my ...</td>\n",
              "    </tr>\n",
              "    <tr>\n",
              "      <th>1</th>\n",
              "      <td>sadness</td>\n",
              "      <td>It was extremely sad to me when I heard that a...</td>\n",
              "    </tr>\n",
              "    <tr>\n",
              "      <th>2</th>\n",
              "      <td>fear</td>\n",
              "      <td>I felt it at the same time when I felt disgust.</td>\n",
              "    </tr>\n",
              "    <tr>\n",
              "      <th>3</th>\n",
              "      <td>fear</td>\n",
              "      <td>After my boy-friend had beaten me for the firs...</td>\n",
              "    </tr>\n",
              "    <tr>\n",
              "      <th>4</th>\n",
              "      <td>fear</td>\n",
              "      <td>On the way home one Friday night in the heavy ...</td>\n",
              "    </tr>\n",
              "    <tr>\n",
              "      <th>...</th>\n",
              "      <td>...</td>\n",
              "      <td>...</td>\n",
              "    </tr>\n",
              "    <tr>\n",
              "      <th>1498</th>\n",
              "      <td>anger</td>\n",
              "      <td>In a sociology class I felt very angry towards...</td>\n",
              "    </tr>\n",
              "    <tr>\n",
              "      <th>1499</th>\n",
              "      <td>shame</td>\n",
              "      <td>I said something especially stupid which I did...</td>\n",
              "    </tr>\n",
              "    <tr>\n",
              "      <th>1500</th>\n",
              "      <td>anger</td>\n",
              "      <td>I was angry the other day because the teacher ...</td>\n",
              "    </tr>\n",
              "    <tr>\n",
              "      <th>1501</th>\n",
              "      <td>sadness</td>\n",
              "      <td>In my penultimate job I was responsible of a s...</td>\n",
              "    </tr>\n",
              "    <tr>\n",
              "      <th>1502</th>\n",
              "      <td>fear</td>\n",
              "      <td>Car accident. Travelling as a passenger along ...</td>\n",
              "    </tr>\n",
              "  </tbody>\n",
              "</table>\n",
              "<p>1503 rows × 2 columns</p>\n",
              "</div>"
            ],
            "text/plain": [
              "      Emotion                                          Utterance\n",
              "0         joy  When I had an anticipatory honey-moon with my ...\n",
              "1     sadness  It was extremely sad to me when I heard that a...\n",
              "2        fear    I felt it at the same time when I felt disgust.\n",
              "3        fear  After my boy-friend had beaten me for the firs...\n",
              "4        fear  On the way home one Friday night in the heavy ...\n",
              "...       ...                                                ...\n",
              "1498    anger  In a sociology class I felt very angry towards...\n",
              "1499    shame  I said something especially stupid which I did...\n",
              "1500    anger  I was angry the other day because the teacher ...\n",
              "1501  sadness  In my penultimate job I was responsible of a s...\n",
              "1502     fear  Car accident. Travelling as a passenger along ...\n",
              "\n",
              "[1503 rows x 2 columns]"
            ]
          },
          "metadata": {},
          "execution_count": 5
        }
      ]
    },
    {
      "cell_type": "code",
      "metadata": {
        "colab": {
          "base_uri": "https://localhost:8080/"
        },
        "id": "kPK1Aif2Z21h",
        "outputId": "2c044304-d170-4e54-a323-397f00b1fc18"
      },
      "source": [
        "print(data.Emotion.value_counts())\n",
        "print()\n",
        "print(data_train.Emotion.value_counts())\n",
        "print()\n",
        "print(data_test.Emotion.value_counts())"
      ],
      "execution_count": null,
      "outputs": [
        {
          "output_type": "stream",
          "name": "stdout",
          "text": [
            "joy        1092\n",
            "sadness    1082\n",
            "anger      1079\n",
            "fear       1076\n",
            "shame      1071\n",
            "disgust    1066\n",
            "guilt      1050\n",
            "Name: Emotion, dtype: int64\n",
            "\n",
            "anger      885\n",
            "joy        879\n",
            "disgust    873\n",
            "shame      857\n",
            "guilt      844\n",
            "sadness    842\n",
            "fear       833\n",
            "Name: Emotion, dtype: int64\n",
            "\n",
            "fear       243\n",
            "sadness    240\n",
            "shame      214\n",
            "joy        213\n",
            "guilt      206\n",
            "anger      194\n",
            "disgust    193\n",
            "Name: Emotion, dtype: int64\n"
          ]
        }
      ]
    },
    {
      "cell_type": "code",
      "metadata": {
        "colab": {
          "base_uri": "https://localhost:8080/",
          "height": 35
        },
        "id": "kbqC7F9HdjQn",
        "outputId": "ea8d0b46-5c79-4313-8e74-d9cedf1f3e27"
      },
      "source": [
        "X_train[92]"
      ],
      "execution_count": null,
      "outputs": [
        {
          "output_type": "execute_result",
          "data": {
            "application/vnd.google.colaboratory.intrinsic+json": {
              "type": "string"
            },
            "text/plain": [
              "\"When I did not get the salary increase that I had been expecting  \\r\\nand understood how little one's work was appreciated.\""
            ]
          },
          "metadata": {},
          "execution_count": 183
        }
      ]
    },
    {
      "cell_type": "code",
      "metadata": {
        "id": "dd6S2mkoaJSS"
      },
      "source": [
        "def clean_text1(x):\n",
        "    pattern = r'[^a-zA-z0-9\\s]'\n",
        "    text = re.sub(pattern, '', x)\n",
        "    return x\n",
        "contraction_dict = {\"ain't\": \"is not\", \"aren't\": \"are not\",\"can't\": \"cannot\", \"'cause\": \"because\", \"could've\": \"could have\", \"couldn't\": \"could not\", \"didn't\": \"did not\",  \"doesn't\": \"does not\", \"don't\": \"do not\", \"hadn't\": \"had not\", \"hasn't\": \"has not\", \"haven't\": \"have not\", \"he'd\": \"he would\",\"he'll\": \"he will\", \"he's\": \"he is\", \"how'd\": \"how did\", \"how'd'y\": \"how do you\", \"how'll\": \"how will\", \"how's\": \"how is\",  \"I'd\": \"I would\", \"I'd've\": \"I would have\", \"I'll\": \"I will\", \"I'll've\": \"I will have\",\"I'm\": \"I am\",\"im\":\"i am\", \"I've\": \"I have\", \"i'd\": \"i would\", \"i'd've\": \"i would have\", \"i'll\": \"i will\",  \"i'll've\": \"i will have\",\"i'm\": \"i am\", \"i've\": \"i have\", \"isn't\": \"is not\", \"it'd\": \"it would\", \"it'd've\": \"it would have\", \"it'll\": \"it will\", \"it'll've\": \"it will have\",\"it's\": \"it is\", \"let's\": \"let us\", \"ma'am\": \"madam\", \"mayn't\": \"may not\", \"might've\": \"might have\",\"mightn't\": \"might not\",\"mightn't've\": \"might not have\", \"must've\": \"must have\", \"mustn't\": \"must not\", \"mustn't've\": \"must not have\", \"needn't\": \"need not\", \"needn't've\": \"need not have\",\"o'clock\": \"of the clock\", \"oughtn't\": \"ought not\", \"oughtn't've\": \"ought not have\", \"shan't\": \"shall not\", \"sha'n't\": \"shall not\", \"shan't've\": \"shall not have\", \"she'd\": \"she would\", \"she'd've\": \"she would have\", \"she'll\": \"she will\", \"she'll've\": \"she will have\", \"she's\": \"she is\", \"should've\": \"should have\", \"shouldn't\": \"should not\", \"shouldn't've\": \"should not have\", \"so've\": \"so have\",\"so's\": \"so as\", \"this's\": \"this is\",\"that'd\": \"that would\", \"that'd've\": \"that would have\", \"that's\": \"that is\", \"there'd\": \"there would\", \"there'd've\": \"there would have\", \"there's\": \"there is\", \"here's\": \"here is\",\"they'd\": \"they would\", \"they'd've\": \"they would have\", \"they'll\": \"they will\", \"they'll've\": \"they will have\", \"they're\": \"they are\", \"they've\": \"they have\", \"to've\": \"to have\", \"wasn't\": \"was not\", \"we'd\": \"we would\", \"we'd've\": \"we would have\", \"we'll\": \"we will\", \"we'll've\": \"we will have\", \"we're\": \"we are\", \"we've\": \"we have\", \"weren't\": \"were not\", \"what'll\": \"what will\", \"what'll've\": \"what will have\", \"what're\": \"what are\",  \"what's\": \"what is\", \"what've\": \"what have\", \"when's\": \"when is\", \"when've\": \"when have\", \"where'd\": \"where did\", \"where's\": \"where is\", \"where've\": \"where have\", \"who'll\": \"who will\", \"who'll've\": \"who will have\", \"who's\": \"who is\", \"who've\": \"who have\", \"why's\": \"why is\", \"why've\": \"why have\", \"will've\": \"will have\", \"won't\": \"will not\", \"won't've\": \"will not have\", \"would've\": \"would have\", \"wouldn't\": \"would not\", \"wouldn't've\": \"would not have\", \"y'all\": \"you all\", \"y'all'd\": \"you all would\",\"y'all'd've\": \"you all would have\",\"y'all're\": \"you all are\",\"y'all've\": \"you all have\",\"you'd\": \"you would\", \"you'd've\": \"you would have\", \"you'll\": \"you will\", \"you'll've\": \"you will have\", \"you're\": \"you are\", \"you've\": \"you have\"}\n",
        "def _get_contractions(contraction_dict):\n",
        "    contraction_re = re.compile('(%s)' % '|'.join(contraction_dict.keys()))\n",
        "    return contraction_dict, contraction_re\n",
        "contractions, contractions_re = _get_contractions(contraction_dict)\n",
        "\n",
        "def replace_contractions(text):\n",
        "    def replace(match):\n",
        "        return contractions[match.group(0)]\n",
        "    return contractions_re.sub(replace, text)\n",
        "# Usage\n",
        "replace_contractions(\"i didn't feel humiliated\")\n",
        "\n",
        "def text_preprocessing(text):\n",
        "    text = replace_contractions(text)\n",
        "    text = text.lower()\n",
        "    text = clean_text1(text)\n",
        "    return text\n"
      ],
      "execution_count": null,
      "outputs": []
    },
    {
      "cell_type": "code",
      "metadata": {
        "id": "-SO3Xdd_IIEf"
      },
      "source": [
        "def clean_text(data):\n",
        "    # tekenization using nltk\n",
        "    data = word_tokenize(data)\n",
        "    \n",
        "    return data"
      ],
      "execution_count": null,
      "outputs": []
    },
    {
      "cell_type": "code",
      "metadata": {
        "id": "WgheBU90aQSU"
      },
      "source": [
        "texts = [' '.join(text_preprocessing(text)) for text in data.Utterance]\n",
        "texts_train = [' '.join(text_preprocessing(text)) for text in X_train]\n",
        "texts_test = [' '.join(text_preprocessing(text)) for text in X_test]"
      ],
      "execution_count": null,
      "outputs": []
    },
    {
      "cell_type": "code",
      "metadata": {
        "colab": {
          "base_uri": "https://localhost:8080/"
        },
        "id": "6LfRcGZkcRn0",
        "outputId": "03baec73-9ad0-4c70-c5e4-f61560acde9e"
      },
      "source": [
        "import nltk\n",
        "nltk.download('punkt')\n",
        "texts = [' '.join(clean_text(text)) for text in data.Utterance]\n",
        "texts_train = [' '.join(clean_text(text)) for text in X_train]\n",
        "texts_test = [' '.join(clean_text(text)) for text in X_test]"
      ],
      "execution_count": null,
      "outputs": [
        {
          "output_type": "stream",
          "name": "stdout",
          "text": [
            "[nltk_data] Downloading package punkt to /root/nltk_data...\n",
            "[nltk_data]   Package punkt is already up-to-date!\n"
          ]
        }
      ]
    },
    {
      "cell_type": "code",
      "metadata": {
        "colab": {
          "base_uri": "https://localhost:8080/"
        },
        "id": "7v3uPqzcbwuB",
        "outputId": "e567ce36-513e-4ac3-c583-3def9da883d1"
      },
      "source": [
        "print(texts_train[92])"
      ],
      "execution_count": null,
      "outputs": [
        {
          "output_type": "stream",
          "name": "stdout",
          "text": [
            "When I did not get the salary increase that I had been expecting and understood how little one 's work was appreciated .\n"
          ]
        }
      ]
    },
    {
      "cell_type": "code",
      "metadata": {
        "colab": {
          "base_uri": "https://localhost:8080/"
        },
        "id": "Xw-0BFNHey9T",
        "outputId": "a88e6fa3-2284-4369-b724-09a3a862dcff"
      },
      "source": [
        "tokenizer = Tokenizer()\n",
        "tokenizer.fit_on_texts(texts)\n",
        "\n",
        "sequence_train = tokenizer.texts_to_sequences(texts_train)\n",
        "sequence_test = tokenizer.texts_to_sequences(texts_test)\n",
        "\n",
        "index_of_words = tokenizer.word_index\n",
        "\n",
        "# vacab size is number of unique words + reserved 0 index for padding\n",
        "vocab_size = len(index_of_words) + 1\n",
        "\n",
        "print('Number of unique words: {}'.format(len(index_of_words)))"
      ],
      "execution_count": null,
      "outputs": [
        {
          "output_type": "stream",
          "name": "stdout",
          "text": [
            "Number of unique words: 8992\n"
          ]
        }
      ]
    },
    {
      "cell_type": "code",
      "metadata": {
        "colab": {
          "base_uri": "https://localhost:8080/"
        },
        "id": "MOqYNjm7e7fx",
        "outputId": "f2731ca9-242d-418b-df34-4a558f2241bd"
      },
      "source": [
        "X_train_pad = pad_sequences(sequence_train, maxlen = max_seq_len )\n",
        "X_test_pad = pad_sequences(sequence_test, maxlen = max_seq_len )\n",
        "\n",
        "X_train_pad"
      ],
      "execution_count": null,
      "outputs": [
        {
          "output_type": "execute_result",
          "data": {
            "text/plain": [
              "array([[   0,    0,    0, ...,    1, 2307, 1793],\n",
              "       [   0,    0,    0, ...,  556,  201,  190],\n",
              "       [   0,    0,    0, ...,  621,    6, 4675],\n",
              "       ...,\n",
              "       [   0,    0,    0, ...,   10,    3,  127],\n",
              "       [   0,    0,    0, ...,    7,  487,  863],\n",
              "       [   0,    0,    0, ...,  225,   39, 1523]], dtype=int32)"
            ]
          },
          "metadata": {},
          "execution_count": 192
        }
      ]
    },
    {
      "cell_type": "code",
      "metadata": {
        "id": "5q4CJXo0fH86"
      },
      "source": [
        "encoding = {\n",
        "    'joy': 0,\n",
        "    'fear': 1,\n",
        "    'anger': 2,\n",
        "    'sadness': 3,\n",
        "    'shame': 4,\n",
        "    'disgust': 5,\n",
        "    'guilt':6\n",
        "}\n",
        "\n",
        "# Integer labels\n",
        "y_train = [encoding[x] for x in data_train.Emotion]\n",
        "y_test = [encoding[x] for x in data_test.Emotion]"
      ],
      "execution_count": null,
      "outputs": []
    },
    {
      "cell_type": "code",
      "metadata": {
        "colab": {
          "base_uri": "https://localhost:8080/"
        },
        "id": "YBQXRuWPfg-a",
        "outputId": "5c925bd0-3a4c-4131-9f88-444dd63ced30"
      },
      "source": [
        "y_train = to_categorical(y_train)\n",
        "y_test = to_categorical(y_test)\n",
        "\n",
        "y_train"
      ],
      "execution_count": null,
      "outputs": [
        {
          "output_type": "execute_result",
          "data": {
            "text/plain": [
              "array([[1., 0., 0., ..., 0., 0., 0.],\n",
              "       [0., 1., 0., ..., 0., 0., 0.],\n",
              "       [0., 0., 0., ..., 0., 1., 0.],\n",
              "       ...,\n",
              "       [0., 1., 0., ..., 0., 0., 0.],\n",
              "       [0., 0., 0., ..., 0., 0., 1.],\n",
              "       [0., 1., 0., ..., 0., 0., 0.]], dtype=float32)"
            ]
          },
          "metadata": {},
          "execution_count": 110
        }
      ]
    },
    {
      "cell_type": "code",
      "metadata": {
        "id": "HMYOE34YfqHh"
      },
      "source": [
        "def create_embedding_matrix(filepath, word_index, embedding_dim):\n",
        "    vocab_size = len(word_index) + 1  # Adding again 1 because of reserved 0 index\n",
        "    embedding_matrix = np.zeros((vocab_size, embedding_dim))\n",
        "    with open(filepath) as f:\n",
        "        for line in f:\n",
        "            word, *vector = line.split()\n",
        "            if word in word_index:\n",
        "                idx = word_index[word] \n",
        "                embedding_matrix[idx] = np.array(\n",
        "                    vector, dtype=np.float32)[:embedding_dim]\n",
        "    return embedding_matrix"
      ],
      "execution_count": null,
      "outputs": []
    },
    {
      "cell_type": "code",
      "metadata": {
        "id": "hhZilKyUft53"
      },
      "source": [
        "import urllib.request\n",
        "import zipfile\n",
        "import os\n",
        "\n",
        "fname = 'embeddings/wiki-news-300d-1M.vec'\n",
        "\n",
        "if not os.path.isfile(fname):\n",
        "    print('Downloading word vectors...')\n",
        "    urllib.request.urlretrieve('https://dl.fbaipublicfiles.com/fasttext/vectors-english/wiki-news-300d-1M.vec.zip',\n",
        "                              'wiki-news-300d-1M.vec.zip')\n",
        "    print('Unzipping...')\n",
        "    with zipfile.ZipFile('wiki-news-300d-1M.vec.zip', 'r') as zip_ref:\n",
        "        zip_ref.extractall('embeddings')\n",
        "    print('done.')\n",
        "    \n",
        "    os.remove('wiki-news-300d-1M.vec.zip')"
      ],
      "execution_count": null,
      "outputs": []
    },
    {
      "cell_type": "code",
      "metadata": {
        "colab": {
          "base_uri": "https://localhost:8080/"
        },
        "id": "SdCwSanXgKp_",
        "outputId": "f5e43bad-2def-4e61-8b80-685097b6b301"
      },
      "source": [
        "embedd_matrix = create_embedding_matrix(fname, index_of_words, embed_num_dims)\n",
        "embedd_matrix.shape"
      ],
      "execution_count": null,
      "outputs": [
        {
          "output_type": "execute_result",
          "data": {
            "text/plain": [
              "(8993, 300)"
            ]
          },
          "metadata": {},
          "execution_count": 19
        }
      ]
    },
    {
      "cell_type": "code",
      "metadata": {
        "colab": {
          "base_uri": "https://localhost:8080/"
        },
        "id": "jYulNzn5gVAj",
        "outputId": "1c6a8895-9964-4c94-b4e9-f53b4e973eed"
      },
      "source": [
        "new_words = 0\n",
        "\n",
        "for word in index_of_words:\n",
        "    entry = embedd_matrix[index_of_words[word]]\n",
        "    if all(v == 0 for v in entry):\n",
        "        new_words = new_words + 1\n",
        "\n",
        "print('Words found in wiki vocab: ' + str(len(index_of_words) - new_words))\n",
        "print('New words found: ' + str(new_words))"
      ],
      "execution_count": null,
      "outputs": [
        {
          "output_type": "stream",
          "name": "stdout",
          "text": [
            "Words found in wiki vocab: 8447\n",
            "New words found: 545\n"
          ]
        }
      ]
    },
    {
      "cell_type": "code",
      "metadata": {
        "id": "AMKRFxdPgZVN"
      },
      "source": [
        "embedd_layer = Embedding(vocab_size,\n",
        "                         embed_num_dims,\n",
        "                         input_length = max_seq_len,\n",
        "                         weights = [embedd_matrix],\n",
        "                         trainable=False)"
      ],
      "execution_count": null,
      "outputs": []
    },
    {
      "cell_type": "code",
      "metadata": {
        "id": "3mwBJAeZpb90"
      },
      "source": [
        "from keras.layers import GlobalMaxPooling1D, Conv1D, MaxPooling1D, Flatten, Bidirectional, SpatialDropout1D\n",
        "from keras.layers.convolutional import Conv2D\n",
        "from keras.layers.core import Dense, Activation, Dropout\n",
        "from keras.callbacks import EarlyStopping\n",
        "\n",
        "from keras.models import Sequential, Model\n",
        "from keras.layers import Reshape\n",
        "from keras.layers.core import Dense, Activation\n",
        "from keras.layers import LSTM, Input, Flatten, Embedding, Convolution1D,Dropout,MaxPool2D,Flatten, Concatenate\n",
        "from tensorflow.python.keras import regularizers\n",
        "from keras.callbacks import ModelCheckpoint\n"
      ],
      "execution_count": null,
      "outputs": []
    },
    {
      "cell_type": "code",
      "metadata": {
        "id": "kkh9iQAVC_R-"
      },
      "source": [
        "max_features = 100000\n",
        "maxlen = 70\n",
        "embed_size = 300"
      ],
      "execution_count": null,
      "outputs": []
    },
    {
      "cell_type": "code",
      "metadata": {
        "colab": {
          "base_uri": "https://localhost:8080/"
        },
        "id": "kuKREDZ2DE7z",
        "outputId": "f7099da8-ce7d-48d0-d3e5-16447af2a1c7"
      },
      "source": [
        "inp = Input(shape=(maxlen, ))\n",
        "x = (embedd_layer)(inp)\n",
        "x = SpatialDropout1D(0.4)(x)\n",
        "x = Reshape((maxlen, embed_size, 1))(x)\n",
        "\n",
        "k1 = 3\n",
        "k2 = 4\n",
        "k3 = 5\n",
        "conv_0 = Conv2D(64, kernel_size=(k1, embed_size), kernel_initializer='normal',activation='elu')(x)\n",
        "conv_1 = Conv2D(64, kernel_size=(k2, embed_size), kernel_initializer='normal',activation='elu')(x)\n",
        "conv_2 = Conv2D(64, kernel_size=(k3, embed_size), kernel_initializer='normal',activation='elu')(x)\n",
        "maxpool_0 = MaxPool2D(pool_size=(maxlen - k1 + 1, 1))(conv_0)\n",
        "maxpool_1 = MaxPool2D(pool_size=(maxlen - k2 + 1, 1))(conv_1)\n",
        "maxpool_2 = MaxPool2D(pool_size=(maxlen - k3 + 1, 1))(conv_2)\n",
        "z = Concatenate(axis=1)([maxpool_0, maxpool_1,maxpool_2])   \n",
        "z = Flatten()(z)\n",
        "z = Dropout(0.1)(z)\n",
        "        \n",
        "outp = Dense(7, activation=\"softmax\")(z)\n",
        "    \n",
        "model = Model(inputs=inp, outputs=outp)\n",
        "model.compile(loss='categorical_crossentropy',\n",
        "                  optimizer='adam',\n",
        "                  metrics=['accuracy'])\n",
        "print(model.summary())\n",
        "#filepath=\"weights_best_cnn.hdf5\"\n",
        "#checkpoint = ModelCheckpoint(filepath, monitor='val_acc', verbose=1, save_best_only=True, mode='max',save_weights_only=True)\n",
        "#callbacks_list = [checkpoint]\n",
        "hist=model.fit(X_train_pad, y_train,  epochs=25, batch_size=50,validation_data=(X_test_pad,y_test))"
      ],
      "execution_count": null,
      "outputs": [
        {
          "output_type": "stream",
          "name": "stdout",
          "text": [
            "Model: \"model_5\"\n",
            "__________________________________________________________________________________________________\n",
            " Layer (type)                   Output Shape         Param #     Connected to                     \n",
            "==================================================================================================\n",
            " input_6 (InputLayer)           [(None, 70)]         0           []                               \n",
            "                                                                                                  \n",
            " embedding (Embedding)          (None, 70, 300)      2697900     ['input_6[0][0]']                \n",
            "                                                                                                  \n",
            " spatial_dropout1d_5 (SpatialDr  (None, 70, 300)     0           ['embedding[5][0]']              \n",
            " opout1D)                                                                                         \n",
            "                                                                                                  \n",
            " reshape_5 (Reshape)            (None, 70, 300, 1)   0           ['spatial_dropout1d_5[0][0]']    \n",
            "                                                                                                  \n",
            " conv2d_15 (Conv2D)             (None, 68, 1, 64)    57664       ['reshape_5[0][0]']              \n",
            "                                                                                                  \n",
            " conv2d_16 (Conv2D)             (None, 67, 1, 64)    76864       ['reshape_5[0][0]']              \n",
            "                                                                                                  \n",
            " conv2d_17 (Conv2D)             (None, 66, 1, 64)    96064       ['reshape_5[0][0]']              \n",
            "                                                                                                  \n",
            " max_pooling2d_15 (MaxPooling2D  (None, 1, 1, 64)    0           ['conv2d_15[0][0]']              \n",
            " )                                                                                                \n",
            "                                                                                                  \n",
            " max_pooling2d_16 (MaxPooling2D  (None, 1, 1, 64)    0           ['conv2d_16[0][0]']              \n",
            " )                                                                                                \n",
            "                                                                                                  \n",
            " max_pooling2d_17 (MaxPooling2D  (None, 1, 1, 64)    0           ['conv2d_17[0][0]']              \n",
            " )                                                                                                \n",
            "                                                                                                  \n",
            " concatenate_5 (Concatenate)    (None, 3, 1, 64)     0           ['max_pooling2d_15[0][0]',       \n",
            "                                                                  'max_pooling2d_16[0][0]',       \n",
            "                                                                  'max_pooling2d_17[0][0]']       \n",
            "                                                                                                  \n",
            " flatten_5 (Flatten)            (None, 192)          0           ['concatenate_5[0][0]']          \n",
            "                                                                                                  \n",
            " dropout_5 (Dropout)            (None, 192)          0           ['flatten_5[0][0]']              \n",
            "                                                                                                  \n",
            " dense_5 (Dense)                (None, 7)            1351        ['dropout_5[0][0]']              \n",
            "                                                                                                  \n",
            "==================================================================================================\n",
            "Total params: 2,929,843\n",
            "Trainable params: 231,943\n",
            "Non-trainable params: 2,697,900\n",
            "__________________________________________________________________________________________________\n",
            "None\n",
            "Epoch 1/25\n",
            "121/121 [==============================] - 18s 143ms/step - loss: 1.8067 - accuracy: 0.2934 - val_loss: 1.5880 - val_accuracy: 0.4571\n",
            "Epoch 2/25\n",
            "121/121 [==============================] - 17s 140ms/step - loss: 1.4603 - accuracy: 0.4924 - val_loss: 1.3041 - val_accuracy: 0.5589\n",
            "Epoch 3/25\n",
            "121/121 [==============================] - 17s 139ms/step - loss: 1.2304 - accuracy: 0.5849 - val_loss: 1.1463 - val_accuracy: 0.6094\n",
            "Epoch 4/25\n",
            "121/121 [==============================] - 17s 139ms/step - loss: 1.1029 - accuracy: 0.6203 - val_loss: 1.0864 - val_accuracy: 0.6228\n",
            "Epoch 5/25\n",
            "121/121 [==============================] - 17s 139ms/step - loss: 1.0253 - accuracy: 0.6406 - val_loss: 1.0695 - val_accuracy: 0.6267\n",
            "Epoch 6/25\n",
            "121/121 [==============================] - 17s 140ms/step - loss: 0.9529 - accuracy: 0.6735 - val_loss: 1.0363 - val_accuracy: 0.6401\n",
            "Epoch 7/25\n",
            "121/121 [==============================] - 17s 141ms/step - loss: 0.8973 - accuracy: 0.6952 - val_loss: 1.0447 - val_accuracy: 0.6248\n",
            "Epoch 8/25\n",
            "121/121 [==============================] - 17s 138ms/step - loss: 0.8440 - accuracy: 0.7115 - val_loss: 1.0172 - val_accuracy: 0.6367\n",
            "Epoch 9/25\n",
            "121/121 [==============================] - 17s 141ms/step - loss: 0.7947 - accuracy: 0.7303 - val_loss: 1.0069 - val_accuracy: 0.6381\n",
            "Epoch 10/25\n",
            "121/121 [==============================] - 17s 142ms/step - loss: 0.7519 - accuracy: 0.7475 - val_loss: 1.0282 - val_accuracy: 0.6474\n",
            "Epoch 11/25\n",
            "121/121 [==============================] - 17s 140ms/step - loss: 0.7098 - accuracy: 0.7650 - val_loss: 0.9953 - val_accuracy: 0.6407\n",
            "Epoch 12/25\n",
            "121/121 [==============================] - 17s 141ms/step - loss: 0.6497 - accuracy: 0.7876 - val_loss: 1.0138 - val_accuracy: 0.6414\n",
            "Epoch 13/25\n",
            "121/121 [==============================] - 17s 140ms/step - loss: 0.6141 - accuracy: 0.8001 - val_loss: 1.0208 - val_accuracy: 0.6567\n",
            "Epoch 14/25\n",
            "121/121 [==============================] - 17s 141ms/step - loss: 0.5844 - accuracy: 0.8104 - val_loss: 1.0062 - val_accuracy: 0.6527\n",
            "Epoch 15/25\n",
            "121/121 [==============================] - 17s 141ms/step - loss: 0.5365 - accuracy: 0.8272 - val_loss: 1.0384 - val_accuracy: 0.6560\n",
            "Epoch 16/25\n",
            "121/121 [==============================] - 17s 140ms/step - loss: 0.4962 - accuracy: 0.8420 - val_loss: 1.0094 - val_accuracy: 0.6540\n",
            "Epoch 17/25\n",
            "121/121 [==============================] - 17s 140ms/step - loss: 0.4804 - accuracy: 0.8450 - val_loss: 1.0201 - val_accuracy: 0.6587\n",
            "Epoch 18/25\n",
            "121/121 [==============================] - 17s 142ms/step - loss: 0.4460 - accuracy: 0.8660 - val_loss: 1.0198 - val_accuracy: 0.6547\n",
            "Epoch 19/25\n",
            "121/121 [==============================] - 17s 141ms/step - loss: 0.4229 - accuracy: 0.8731 - val_loss: 1.0567 - val_accuracy: 0.6547\n",
            "Epoch 20/25\n",
            "121/121 [==============================] - 17s 141ms/step - loss: 0.3935 - accuracy: 0.8809 - val_loss: 1.0478 - val_accuracy: 0.6580\n",
            "Epoch 21/25\n",
            "121/121 [==============================] - 17s 140ms/step - loss: 0.3697 - accuracy: 0.8934 - val_loss: 1.0602 - val_accuracy: 0.6600\n",
            "Epoch 22/25\n",
            "121/121 [==============================] - 17s 139ms/step - loss: 0.3347 - accuracy: 0.9047 - val_loss: 1.0606 - val_accuracy: 0.6620\n",
            "Epoch 23/25\n",
            "121/121 [==============================] - 17s 141ms/step - loss: 0.3211 - accuracy: 0.9129 - val_loss: 1.0819 - val_accuracy: 0.6567\n",
            "Epoch 24/25\n",
            "121/121 [==============================] - 17s 142ms/step - loss: 0.2984 - accuracy: 0.9192 - val_loss: 1.0785 - val_accuracy: 0.6647\n",
            "Epoch 25/25\n",
            "121/121 [==============================] - 17s 140ms/step - loss: 0.2844 - accuracy: 0.9208 - val_loss: 1.0834 - val_accuracy: 0.6574\n"
          ]
        }
      ]
    },
    {
      "cell_type": "code",
      "metadata": {
        "id": "98XqDIABw4xV"
      },
      "source": [
        "predictions = model.predict(X_test_pad)\n",
        "predictions = np.argmax(predictions, axis=1)\n",
        "predictions = [class_names[pred] for pred in predictions]"
      ],
      "execution_count": null,
      "outputs": []
    },
    {
      "cell_type": "code",
      "metadata": {
        "colab": {
          "base_uri": "https://localhost:8080/"
        },
        "id": "4M2ka7qo7IBe",
        "outputId": "c645643b-25c2-457a-8a98-019166e4cc84"
      },
      "source": [
        "print(\"Accuracy: {:.2f}%\".format(accuracy_score(data_test.Emotion, predictions) * 100))\n",
        "print(\"\\nF1 Score: {:.2f}\".format(f1_score(data_test.Emotion, predictions, average='micro') * 100))"
      ],
      "execution_count": null,
      "outputs": [
        {
          "output_type": "stream",
          "name": "stdout",
          "text": [
            "Accuracy: 64.67%\n",
            "\n",
            "F1 Score: 64.67\n"
          ]
        }
      ]
    },
    {
      "cell_type": "markdown",
      "metadata": {
        "id": "02p2pNWl52Nb"
      },
      "source": [
        "# Save a Model"
      ]
    },
    {
      "cell_type": "code",
      "metadata": {
        "id": "HPpz0xWO5XM8"
      },
      "source": [
        "save_model = False\n",
        "if save_model is True:\n",
        "    torch.save(model_cnn,root_path+'Model Checkpoints/Model.pkl')"
      ],
      "execution_count": null,
      "outputs": []
    },
    {
      "cell_type": "markdown",
      "metadata": {
        "id": "Wo9Yg0sR56LK"
      },
      "source": [
        "# Load a Model"
      ]
    },
    {
      "cell_type": "code",
      "metadata": {
        "id": "Y9lOKCro5_ju"
      },
      "source": [
        "load_model = False\n",
        "if load_model is True:\n",
        "    model.load_state_dict(torch.load(root_path + 'Model Checkpoints/Model.pkl'))"
      ],
      "execution_count": null,
      "outputs": []
    },
    {
      "cell_type": "markdown",
      "metadata": {
        "id": "cPp4X8og6Qfc"
      },
      "source": [
        "# Confusion Matrix"
      ]
    },
    {
      "cell_type": "code",
      "metadata": {
        "colab": {
          "base_uri": "https://localhost:8080/",
          "height": 466
        },
        "id": "mdOJgllkPa-Q",
        "outputId": "ecfe8158-b011-4e3c-f857-ee4b3abdead8"
      },
      "source": [
        "cnn_cm=confusion_matrix(data_test.Emotion, predictions, labels=['joy','fear','anger','sadness','shame','disgust','guilt'])\n",
        "cm_display = ConfusionMatrixDisplay(cnn_cm, display_labels=['joy','fear','anger','sadness','shame','disgust','guilt'])\n",
        "# Printing the precision and recall, among other metrics\n",
        "fig, ax = plt.subplots(figsize=(8,8)) # adjust the size\n",
        "cm_display.plot(ax=ax,cmap='Reds',values_format='')\n",
        "plt.savefig(root_path+'Model_Confusion_Matrix.jpg')"
      ],
      "execution_count": null,
      "outputs": [
        {
          "output_type": "display_data",
          "data": {
            "image/png": "[encoded data removed]",
            "text/plain": [
              "<Figure size 576x576 with 2 Axes>"
            ]
          },
          "metadata": {
            "needs_background": "light"
          }
        }
      ]
    },
    {
      "cell_type": "markdown",
      "metadata": {
        "id": "iMlCjds36oAJ"
      },
      "source": [
        "# Classification Report"
      ]
    },
    {
      "cell_type": "code",
      "metadata": {
        "colab": {
          "base_uri": "https://localhost:8080/"
        },
        "id": "UUUFmpaY6gCL",
        "outputId": "212fd656-d7bc-4bc4-fc17-b2fce28a0c5a"
      },
      "source": [
        "print(metrics.classification_report(data_test.Emotion, predictions, labels=['joy','fear','anger','sadness','shame','disgust','guilt']))"
      ],
      "execution_count": null,
      "outputs": [
        {
          "output_type": "stream",
          "name": "stdout",
          "text": [
            "              precision    recall  f1-score   support\n",
            "\n",
            "         joy       0.72      0.79      0.76       213\n",
            "        fear       0.74      0.79      0.77       243\n",
            "       anger       0.61      0.51      0.55       194\n",
            "     sadness       0.69      0.60      0.64       240\n",
            "       shame       0.50      0.61      0.55       214\n",
            "     disgust       0.70      0.64      0.67       193\n",
            "       guilt       0.55      0.56      0.56       206\n",
            "\n",
            "    accuracy                           0.65      1503\n",
            "   macro avg       0.65      0.64      0.64      1503\n",
            "weighted avg       0.65      0.65      0.65      1503\n",
            "\n"
          ]
        }
      ]
    },
    {
      "cell_type": "code",
      "metadata": {
        "colab": {
          "base_uri": "https://localhost:8080/"
        },
        "id": "kVE4eYJaP5Aj",
        "outputId": "ddcd78d9-c014-4223-e7e0-7777952da069"
      },
      "source": [
        "print(hist.history.keys())"
      ],
      "execution_count": null,
      "outputs": [
        {
          "output_type": "stream",
          "name": "stdout",
          "text": [
            "dict_keys(['loss', 'accuracy', 'val_loss', 'val_accuracy'])\n"
          ]
        }
      ]
    },
    {
      "cell_type": "markdown",
      "metadata": {
        "id": "kN1muoUB9co2"
      },
      "source": [
        "# Accuracy Plot"
      ]
    },
    {
      "cell_type": "code",
      "metadata": {
        "colab": {
          "base_uri": "https://localhost:8080/",
          "height": 404
        },
        "id": "E760qwtA7f5p",
        "outputId": "bf11b21b-dcd1-4908-dc1b-45e99640fdb3"
      },
      "source": [
        "plt.plot(hist.history['accuracy'])\n",
        "plt.plot(hist.history['val_accuracy'])\n",
        "plt.title('Model Accuracy')\n",
        "plt.ylabel('Accuracy')\n",
        "plt.xlabel('Epoch')\n",
        "plt.legend(['Train', 'Test'], loc='upper left')\n",
        "plt.savefig(root_path+'Model_Accuracy.jpg')\n",
        "plt.show()"
      ],
      "execution_count": null,
      "outputs": [
        {
          "output_type": "display_data",
          "data": {
            "image/png": "[encoded data removed]",
            "text/plain": [
              "<Figure size 720x432 with 1 Axes>"
            ]
          },
          "metadata": {
            "needs_background": "light"
          }
        }
      ]
    },
    {
      "cell_type": "markdown",
      "metadata": {
        "id": "dTbDkVPX-Czj"
      },
      "source": [
        "# Loss Plot"
      ]
    },
    {
      "cell_type": "code",
      "metadata": {
        "colab": {
          "base_uri": "https://localhost:8080/",
          "height": 404
        },
        "id": "nU7QOK5FP8cO",
        "outputId": "0b56eca8-2caf-4a9d-f799-b36060c85e25"
      },
      "source": [
        "plt.plot(hist.history['loss'])\n",
        "plt.plot(hist.history['val_loss'])\n",
        "plt.title('Model Loss Curve')\n",
        "plt.ylabel('Loss')\n",
        "plt.xlabel('Epoch')\n",
        "plt.legend(['Train', 'Test'], loc='upper right')\n",
        "plt.savefig(root_path+'Model_Loss.jpg')\n",
        "plt.show()"
      ],
      "execution_count": null,
      "outputs": [
        {
          "output_type": "display_data",
          "data": {
            "image/png": "[encoded data removed]",
            "text/plain": [
              "<Figure size 720x432 with 1 Axes>"
            ]
          },
          "metadata": {
            "needs_background": "light"
          }
        }
      ]
    },
    {
      "cell_type": "markdown",
      "metadata": {
        "id": "kSLFWxtG-xX2"
      },
      "source": [
        ""
      ]
    },
    {
      "cell_type": "code",
      "metadata": {
        "id": "gpjlwD9Ix36p"
      },
      "source": [
        "def get_prec_recall_per_emotion(cm):\n",
        "    per_emotion_precision = []\n",
        "    for i in range(len(cm)):\n",
        "        count_per_emotion,accurate = 0,0\n",
        "        for j in range(len(cm)):\n",
        "            if i == j:\n",
        "                accurate = cm[j][i]\n",
        "            count_per_emotion += cm[j][i]\n",
        "        per_emotion_precision.append(round((accurate/count_per_emotion)*100,3))\n",
        "        \n",
        "    per_emotion_recall = []\n",
        "    for i in range(len(cm)):\n",
        "        count_per_emotion,accurate = 0,0\n",
        "        for j in range(len(cm)):\n",
        "            if i == j:\n",
        "                accurate = cm[i][j]\n",
        "            count_per_emotion += cm[i][j]\n",
        "        per_emotion_recall.append(round((accurate/count_per_emotion)*100,3))\n",
        "        \n",
        "    return per_emotion_precision, per_emotion_recall"
      ],
      "execution_count": null,
      "outputs": []
    },
    {
      "cell_type": "markdown",
      "metadata": {
        "id": "28MgCKqi-0g7"
      },
      "source": [
        "# Model Precision of all emotions"
      ]
    },
    {
      "cell_type": "code",
      "metadata": {
        "id": "686k8TZXAD3G"
      },
      "source": [
        "cnn_per_prec,cnn_per_recall = get_prec_recall_per_emotion(cnn_cm)"
      ],
      "execution_count": null,
      "outputs": []
    },
    {
      "cell_type": "code",
      "metadata": {
        "colab": {
          "base_uri": "https://localhost:8080/",
          "height": 269
        },
        "id": "655iVCGH-1Nk",
        "outputId": "bddb8b8c-50e2-4bc2-db31-2eddf088936c"
      },
      "source": [
        "per_precision_list = pd.DataFrame({'Precision Per Emotion': cnn_per_prec}, index=class_names)\n",
        "per_precision_list"
      ],
      "execution_count": null,
      "outputs": [
        {
          "output_type": "execute_result",
          "data": {
            "text/html": [
              "<div>\n",
              "<style scoped>\n",
              "    .dataframe tbody tr th:only-of-type {\n",
              "        vertical-align: middle;\n",
              "    }\n",
              "\n",
              "    .dataframe tbody tr th {\n",
              "        vertical-align: top;\n",
              "    }\n",
              "\n",
              "    .dataframe thead th {\n",
              "        text-align: right;\n",
              "    }\n",
              "</style>\n",
              "<table border=\"1\" class=\"dataframe\">\n",
              "  <thead>\n",
              "    <tr style=\"text-align: right;\">\n",
              "      <th></th>\n",
              "      <th>Precision Per Emotion</th>\n",
              "    </tr>\n",
              "  </thead>\n",
              "  <tbody>\n",
              "    <tr>\n",
              "      <th>joy</th>\n",
              "      <td>72.414</td>\n",
              "    </tr>\n",
              "    <tr>\n",
              "      <th>fear</th>\n",
              "      <td>74.231</td>\n",
              "    </tr>\n",
              "    <tr>\n",
              "      <th>anger</th>\n",
              "      <td>61.250</td>\n",
              "    </tr>\n",
              "    <tr>\n",
              "      <th>sadness</th>\n",
              "      <td>69.417</td>\n",
              "    </tr>\n",
              "    <tr>\n",
              "      <th>shame</th>\n",
              "      <td>50.388</td>\n",
              "    </tr>\n",
              "    <tr>\n",
              "      <th>disgust</th>\n",
              "      <td>70.455</td>\n",
              "    </tr>\n",
              "    <tr>\n",
              "      <th>guilt</th>\n",
              "      <td>54.976</td>\n",
              "    </tr>\n",
              "  </tbody>\n",
              "</table>\n",
              "</div>"
            ],
            "text/plain": [
              "         Precision Per Emotion\n",
              "joy                     72.414\n",
              "fear                    74.231\n",
              "anger                   61.250\n",
              "sadness                 69.417\n",
              "shame                   50.388\n",
              "disgust                 70.455\n",
              "guilt                   54.976"
            ]
          },
          "metadata": {},
          "execution_count": 82
        }
      ]
    },
    {
      "cell_type": "code",
      "metadata": {
        "colab": {
          "base_uri": "https://localhost:8080/",
          "height": 269
        },
        "id": "6bCdvllG_2wL",
        "outputId": "577dca53-7291-4259-b09e-aff43299fb50"
      },
      "source": [
        "per_recall_list = pd.DataFrame({'Recall Per Emotion': cnn_per_recall}, index=class_names)\n",
        "per_recall_list"
      ],
      "execution_count": null,
      "outputs": [
        {
          "output_type": "execute_result",
          "data": {
            "text/html": [
              "<div>\n",
              "<style scoped>\n",
              "    .dataframe tbody tr th:only-of-type {\n",
              "        vertical-align: middle;\n",
              "    }\n",
              "\n",
              "    .dataframe tbody tr th {\n",
              "        vertical-align: top;\n",
              "    }\n",
              "\n",
              "    .dataframe thead th {\n",
              "        text-align: right;\n",
              "    }\n",
              "</style>\n",
              "<table border=\"1\" class=\"dataframe\">\n",
              "  <thead>\n",
              "    <tr style=\"text-align: right;\">\n",
              "      <th></th>\n",
              "      <th>Recall Per Emotion</th>\n",
              "    </tr>\n",
              "  </thead>\n",
              "  <tbody>\n",
              "    <tr>\n",
              "      <th>joy</th>\n",
              "      <td>78.873</td>\n",
              "    </tr>\n",
              "    <tr>\n",
              "      <th>fear</th>\n",
              "      <td>79.424</td>\n",
              "    </tr>\n",
              "    <tr>\n",
              "      <th>anger</th>\n",
              "      <td>50.515</td>\n",
              "    </tr>\n",
              "    <tr>\n",
              "      <th>sadness</th>\n",
              "      <td>59.583</td>\n",
              "    </tr>\n",
              "    <tr>\n",
              "      <th>shame</th>\n",
              "      <td>60.748</td>\n",
              "    </tr>\n",
              "    <tr>\n",
              "      <th>disgust</th>\n",
              "      <td>64.249</td>\n",
              "    </tr>\n",
              "    <tr>\n",
              "      <th>guilt</th>\n",
              "      <td>56.311</td>\n",
              "    </tr>\n",
              "  </tbody>\n",
              "</table>\n",
              "</div>"
            ],
            "text/plain": [
              "         Recall Per Emotion\n",
              "joy                  78.873\n",
              "fear                 79.424\n",
              "anger                50.515\n",
              "sadness              59.583\n",
              "shame                60.748\n",
              "disgust              64.249\n",
              "guilt                56.311"
            ]
          },
          "metadata": {},
          "execution_count": 83
        }
      ]
    },
    {
      "cell_type": "markdown",
      "metadata": {
        "id": "8sB672UOA2eO"
      },
      "source": [
        "# Prediction"
      ]
    },
    {
      "cell_type": "code",
      "metadata": {
        "id": "4-t5HCLyL_sw"
      },
      "source": [
        "def predict_single(x):    \n",
        "    # tokenize\n",
        "    seq = tokenizer.texts_to_sequences(x)\n",
        "    # padding\n",
        "    padded = pad_sequences(seq, maxlen=max_seq_len)\n",
        "    # using model\n",
        "    pred = model.predict(padded)\n",
        "    return pred[0]"
      ],
      "execution_count": null,
      "outputs": []
    },
    {
      "cell_type": "markdown",
      "metadata": {
        "id": "Zb-7ZY1GPKqh"
      },
      "source": [
        "class_names = ['joy','fear','anger','sadness','shame','disgust','guilt']"
      ]
    },
    {
      "cell_type": "code",
      "metadata": {
        "colab": {
          "base_uri": "https://localhost:8080/"
        },
        "id": "dyz70cNXBLqL",
        "outputId": "5bf778df-34ff-4a0f-cf1f-b19fe1747923"
      },
      "source": [
        "text = input('Input Text: ')\n",
        "ans = predict_single([text])\n",
        "print()\n",
        "maxx = 0\n",
        "idx = 0\n",
        "cnt = 0\n",
        "for p in ans:\n",
        "  print('Predicted Emotion: {} ({:.4f})'.format(class_names[cnt],p))\n",
        "  print()\n",
        "  if p>maxx:\n",
        "    maxx = p\n",
        "    idx = cnt\n",
        "  cnt = cnt + 1\n",
        "\n",
        "PE = \"\"\n",
        "PE = class_names[idx] \n",
        "print(\"Class with Maximum Predicted Probability: \",PE)"
      ],
      "execution_count": null,
      "outputs": [
        {
          "output_type": "stream",
          "name": "stdout",
          "text": [
            "Input Text: This message is deleted\n",
            "\n",
            "Predicted Emotion: joy (0.1450)\n",
            "\n",
            "Predicted Emotion: fear (0.1013)\n",
            "\n",
            "Predicted Emotion: anger (0.2739)\n",
            "\n",
            "Predicted Emotion: sadness (0.1811)\n",
            "\n",
            "Predicted Emotion: shame (0.0760)\n",
            "\n",
            "Predicted Emotion: disgust (0.0986)\n",
            "\n",
            "Predicted Emotion: guilt (0.1239)\n",
            "\n",
            "Class with Maximum Predicted Probability:  anger\n"
          ]
        }
      ]
    }
  ]
}